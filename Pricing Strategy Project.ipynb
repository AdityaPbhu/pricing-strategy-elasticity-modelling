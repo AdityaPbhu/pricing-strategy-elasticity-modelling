{
 "cells": [
  {
   "cell_type": "markdown",
   "id": "bd9e4492",
   "metadata": {},
   "source": [
    "# Step 0: Project Setup\n",
    "\n",
    "In this notebook, we will analyse the Olist e-commerce dataset to understand the relationship between product prices and quantities sold. Our goal is to estimate price elasticity of demand and simulate potential revenue under different pricing scenarios to derive optimal pricing strategies.\n"
   ]
  },
  {
   "cell_type": "code",
   "execution_count": 1,
   "id": "1ab71f96",
   "metadata": {},
   "outputs": [],
   "source": [
    "# ## Step 0: Import Libraries\n",
    "\n",
    "import pandas as pd\n",
    "import numpy as np\n",
    "import matplotlib.pyplot as plt\n",
    "import seaborn as sns\n",
    "\n",
    "# Configure visualisation settings\n",
    "sns.set(style=\"whitegrid\")\n",
    "pd.set_option('display.max_columns', None)\n"
   ]
  },
  {
   "cell_type": "markdown",
   "id": "f82ba21a",
   "metadata": {},
   "source": [
    "#  Step 1: Load Datasets\n",
    "\n",
    "We will load the required CSV files from the Olist dataset, including:\n",
    "\n",
    "- Customers\n",
    "- Orders\n",
    "- Order Items\n",
    "- Products\n",
    "- Sellers\n",
    "\n",
    "This will allow us to merge product-level pricing data with quantity sold per order.\n"
   ]
  },
  {
   "cell_type": "code",
   "execution_count": 2,
   "id": "e5a8f20f",
   "metadata": {},
   "outputs": [
    {
     "name": "stdout",
     "output_type": "stream",
     "text": [
      "Datasets loaded successfully.\n"
     ]
    }
   ],
   "source": [
    "# Step 1: Load Datasets\n",
    "\n",
    "# Adjust file paths to your Mac local Downloads directory\n",
    "customers = pd.read_csv('/Users/aditya/Downloads/olist_customers_dataset.csv')\n",
    "order_items = pd.read_csv('/Users/aditya/Downloads/olist_order_items_dataset.csv')\n",
    "orders = pd.read_csv('/Users/aditya/Downloads/olist_orders_dataset.csv')\n",
    "products = pd.read_csv('/Users/aditya/Downloads/olist_products_dataset.csv')\n",
    "sellers = pd.read_csv('/Users/aditya/Downloads/olist_sellers_dataset.csv')\n",
    "\n",
    "# Confirm successful loading\n",
    "print(\"Datasets loaded successfully.\")\n"
   ]
  },
  {
   "cell_type": "markdown",
   "id": "67ddca04",
   "metadata": {},
   "source": [
    "# Step 2: Initial Data Exploration\n",
    "\n",
    "We will check the shape of each dataset to understand their dimensions and preview the first few rows to identify relevant columns for our analysis.\n"
   ]
  },
  {
   "cell_type": "code",
   "execution_count": 3,
   "id": "879128e9",
   "metadata": {},
   "outputs": [
    {
     "name": "stdout",
     "output_type": "stream",
     "text": [
      "Customers: (99441, 5)\n",
      "Order Items: (112650, 7)\n",
      "Orders: (99441, 8)\n",
      "Products: (32951, 9)\n",
      "Sellers: (3095, 4)\n"
     ]
    }
   ],
   "source": [
    "# Step 2: Dataset Shapes\n",
    "\n",
    "print(\"Customers:\", customers.shape)\n",
    "print(\"Order Items:\", order_items.shape)\n",
    "print(\"Orders:\", orders.shape)\n",
    "print(\"Products:\", products.shape)\n",
    "print(\"Sellers:\", sellers.shape)\n"
   ]
  },
  {
   "cell_type": "code",
   "execution_count": 4,
   "id": "fabc0a31",
   "metadata": {},
   "outputs": [
    {
     "data": {
      "application/vnd.microsoft.datawrangler.viewer.v0+json": {
       "columns": [
        {
         "name": "index",
         "rawType": "int64",
         "type": "integer"
        },
        {
         "name": "order_id",
         "rawType": "object",
         "type": "string"
        },
        {
         "name": "order_item_id",
         "rawType": "int64",
         "type": "integer"
        },
        {
         "name": "product_id",
         "rawType": "object",
         "type": "string"
        },
        {
         "name": "seller_id",
         "rawType": "object",
         "type": "string"
        },
        {
         "name": "shipping_limit_date",
         "rawType": "object",
         "type": "string"
        },
        {
         "name": "price",
         "rawType": "float64",
         "type": "float"
        },
        {
         "name": "freight_value",
         "rawType": "float64",
         "type": "float"
        }
       ],
       "ref": "4d9d0b6e-741c-4cc0-8b2c-9e051d48448b",
       "rows": [
        [
         "0",
         "00010242fe8c5a6d1ba2dd792cb16214",
         "1",
         "4244733e06e7ecb4970a6e2683c13e61",
         "48436dade18ac8b2bce089ec2a041202",
         "2017-09-19 09:45:35",
         "58.9",
         "13.29"
        ],
        [
         "1",
         "00018f77f2f0320c557190d7a144bdd3",
         "1",
         "e5f2d52b802189ee658865ca93d83a8f",
         "dd7ddc04e1b6c2c614352b383efe2d36",
         "2017-05-03 11:05:13",
         "239.9",
         "19.93"
        ],
        [
         "2",
         "000229ec398224ef6ca0657da4fc703e",
         "1",
         "c777355d18b72b67abbeef9df44fd0fd",
         "5b51032eddd242adc84c38acab88f23d",
         "2018-01-18 14:48:30",
         "199.0",
         "17.87"
        ],
        [
         "3",
         "00024acbcdf0a6daa1e931b038114c75",
         "1",
         "7634da152a4610f1595efa32f14722fc",
         "9d7a1d34a5052409006425275ba1c2b4",
         "2018-08-15 10:10:18",
         "12.99",
         "12.79"
        ],
        [
         "4",
         "00042b26cf59d7ce69dfabb4e55b4fd9",
         "1",
         "ac6c3623068f30de03045865e4e10089",
         "df560393f3a51e74553ab94004ba5c87",
         "2017-02-13 13:57:51",
         "199.9",
         "18.14"
        ]
       ],
       "shape": {
        "columns": 7,
        "rows": 5
       }
      },
      "text/html": [
       "<div>\n",
       "<style scoped>\n",
       "    .dataframe tbody tr th:only-of-type {\n",
       "        vertical-align: middle;\n",
       "    }\n",
       "\n",
       "    .dataframe tbody tr th {\n",
       "        vertical-align: top;\n",
       "    }\n",
       "\n",
       "    .dataframe thead th {\n",
       "        text-align: right;\n",
       "    }\n",
       "</style>\n",
       "<table border=\"1\" class=\"dataframe\">\n",
       "  <thead>\n",
       "    <tr style=\"text-align: right;\">\n",
       "      <th></th>\n",
       "      <th>order_id</th>\n",
       "      <th>order_item_id</th>\n",
       "      <th>product_id</th>\n",
       "      <th>seller_id</th>\n",
       "      <th>shipping_limit_date</th>\n",
       "      <th>price</th>\n",
       "      <th>freight_value</th>\n",
       "    </tr>\n",
       "  </thead>\n",
       "  <tbody>\n",
       "    <tr>\n",
       "      <th>0</th>\n",
       "      <td>00010242fe8c5a6d1ba2dd792cb16214</td>\n",
       "      <td>1</td>\n",
       "      <td>4244733e06e7ecb4970a6e2683c13e61</td>\n",
       "      <td>48436dade18ac8b2bce089ec2a041202</td>\n",
       "      <td>2017-09-19 09:45:35</td>\n",
       "      <td>58.90</td>\n",
       "      <td>13.29</td>\n",
       "    </tr>\n",
       "    <tr>\n",
       "      <th>1</th>\n",
       "      <td>00018f77f2f0320c557190d7a144bdd3</td>\n",
       "      <td>1</td>\n",
       "      <td>e5f2d52b802189ee658865ca93d83a8f</td>\n",
       "      <td>dd7ddc04e1b6c2c614352b383efe2d36</td>\n",
       "      <td>2017-05-03 11:05:13</td>\n",
       "      <td>239.90</td>\n",
       "      <td>19.93</td>\n",
       "    </tr>\n",
       "    <tr>\n",
       "      <th>2</th>\n",
       "      <td>000229ec398224ef6ca0657da4fc703e</td>\n",
       "      <td>1</td>\n",
       "      <td>c777355d18b72b67abbeef9df44fd0fd</td>\n",
       "      <td>5b51032eddd242adc84c38acab88f23d</td>\n",
       "      <td>2018-01-18 14:48:30</td>\n",
       "      <td>199.00</td>\n",
       "      <td>17.87</td>\n",
       "    </tr>\n",
       "    <tr>\n",
       "      <th>3</th>\n",
       "      <td>00024acbcdf0a6daa1e931b038114c75</td>\n",
       "      <td>1</td>\n",
       "      <td>7634da152a4610f1595efa32f14722fc</td>\n",
       "      <td>9d7a1d34a5052409006425275ba1c2b4</td>\n",
       "      <td>2018-08-15 10:10:18</td>\n",
       "      <td>12.99</td>\n",
       "      <td>12.79</td>\n",
       "    </tr>\n",
       "    <tr>\n",
       "      <th>4</th>\n",
       "      <td>00042b26cf59d7ce69dfabb4e55b4fd9</td>\n",
       "      <td>1</td>\n",
       "      <td>ac6c3623068f30de03045865e4e10089</td>\n",
       "      <td>df560393f3a51e74553ab94004ba5c87</td>\n",
       "      <td>2017-02-13 13:57:51</td>\n",
       "      <td>199.90</td>\n",
       "      <td>18.14</td>\n",
       "    </tr>\n",
       "  </tbody>\n",
       "</table>\n",
       "</div>"
      ],
      "text/plain": [
       "                           order_id  order_item_id  \\\n",
       "0  00010242fe8c5a6d1ba2dd792cb16214              1   \n",
       "1  00018f77f2f0320c557190d7a144bdd3              1   \n",
       "2  000229ec398224ef6ca0657da4fc703e              1   \n",
       "3  00024acbcdf0a6daa1e931b038114c75              1   \n",
       "4  00042b26cf59d7ce69dfabb4e55b4fd9              1   \n",
       "\n",
       "                         product_id                         seller_id  \\\n",
       "0  4244733e06e7ecb4970a6e2683c13e61  48436dade18ac8b2bce089ec2a041202   \n",
       "1  e5f2d52b802189ee658865ca93d83a8f  dd7ddc04e1b6c2c614352b383efe2d36   \n",
       "2  c777355d18b72b67abbeef9df44fd0fd  5b51032eddd242adc84c38acab88f23d   \n",
       "3  7634da152a4610f1595efa32f14722fc  9d7a1d34a5052409006425275ba1c2b4   \n",
       "4  ac6c3623068f30de03045865e4e10089  df560393f3a51e74553ab94004ba5c87   \n",
       "\n",
       "   shipping_limit_date   price  freight_value  \n",
       "0  2017-09-19 09:45:35   58.90          13.29  \n",
       "1  2017-05-03 11:05:13  239.90          19.93  \n",
       "2  2018-01-18 14:48:30  199.00          17.87  \n",
       "3  2018-08-15 10:10:18   12.99          12.79  \n",
       "4  2017-02-13 13:57:51  199.90          18.14  "
      ]
     },
     "execution_count": 4,
     "metadata": {},
     "output_type": "execute_result"
    }
   ],
   "source": [
    "# Step 2.1: Preview Order Items Dataset\n",
    "\n",
    "order_items.head()\n"
   ]
  },
  {
   "cell_type": "code",
   "execution_count": 5,
   "id": "1854aac7",
   "metadata": {},
   "outputs": [
    {
     "data": {
      "application/vnd.microsoft.datawrangler.viewer.v0+json": {
       "columns": [
        {
         "name": "index",
         "rawType": "int64",
         "type": "integer"
        },
        {
         "name": "product_id",
         "rawType": "object",
         "type": "string"
        },
        {
         "name": "product_category_name",
         "rawType": "object",
         "type": "string"
        },
        {
         "name": "product_name_lenght",
         "rawType": "float64",
         "type": "float"
        },
        {
         "name": "product_description_lenght",
         "rawType": "float64",
         "type": "float"
        },
        {
         "name": "product_photos_qty",
         "rawType": "float64",
         "type": "float"
        },
        {
         "name": "product_weight_g",
         "rawType": "float64",
         "type": "float"
        },
        {
         "name": "product_length_cm",
         "rawType": "float64",
         "type": "float"
        },
        {
         "name": "product_height_cm",
         "rawType": "float64",
         "type": "float"
        },
        {
         "name": "product_width_cm",
         "rawType": "float64",
         "type": "float"
        }
       ],
       "ref": "0586d55c-4720-4083-92f4-873d22f49e7d",
       "rows": [
        [
         "0",
         "1e9e8ef04dbcff4541ed26657ea517e5",
         "perfumaria",
         "40.0",
         "287.0",
         "1.0",
         "225.0",
         "16.0",
         "10.0",
         "14.0"
        ],
        [
         "1",
         "3aa071139cb16b67ca9e5dea641aaa2f",
         "artes",
         "44.0",
         "276.0",
         "1.0",
         "1000.0",
         "30.0",
         "18.0",
         "20.0"
        ],
        [
         "2",
         "96bd76ec8810374ed1b65e291975717f",
         "esporte_lazer",
         "46.0",
         "250.0",
         "1.0",
         "154.0",
         "18.0",
         "9.0",
         "15.0"
        ],
        [
         "3",
         "cef67bcfe19066a932b7673e239eb23d",
         "bebes",
         "27.0",
         "261.0",
         "1.0",
         "371.0",
         "26.0",
         "4.0",
         "26.0"
        ],
        [
         "4",
         "9dc1a7de274444849c219cff195d0b71",
         "utilidades_domesticas",
         "37.0",
         "402.0",
         "4.0",
         "625.0",
         "20.0",
         "17.0",
         "13.0"
        ]
       ],
       "shape": {
        "columns": 9,
        "rows": 5
       }
      },
      "text/html": [
       "<div>\n",
       "<style scoped>\n",
       "    .dataframe tbody tr th:only-of-type {\n",
       "        vertical-align: middle;\n",
       "    }\n",
       "\n",
       "    .dataframe tbody tr th {\n",
       "        vertical-align: top;\n",
       "    }\n",
       "\n",
       "    .dataframe thead th {\n",
       "        text-align: right;\n",
       "    }\n",
       "</style>\n",
       "<table border=\"1\" class=\"dataframe\">\n",
       "  <thead>\n",
       "    <tr style=\"text-align: right;\">\n",
       "      <th></th>\n",
       "      <th>product_id</th>\n",
       "      <th>product_category_name</th>\n",
       "      <th>product_name_lenght</th>\n",
       "      <th>product_description_lenght</th>\n",
       "      <th>product_photos_qty</th>\n",
       "      <th>product_weight_g</th>\n",
       "      <th>product_length_cm</th>\n",
       "      <th>product_height_cm</th>\n",
       "      <th>product_width_cm</th>\n",
       "    </tr>\n",
       "  </thead>\n",
       "  <tbody>\n",
       "    <tr>\n",
       "      <th>0</th>\n",
       "      <td>1e9e8ef04dbcff4541ed26657ea517e5</td>\n",
       "      <td>perfumaria</td>\n",
       "      <td>40.0</td>\n",
       "      <td>287.0</td>\n",
       "      <td>1.0</td>\n",
       "      <td>225.0</td>\n",
       "      <td>16.0</td>\n",
       "      <td>10.0</td>\n",
       "      <td>14.0</td>\n",
       "    </tr>\n",
       "    <tr>\n",
       "      <th>1</th>\n",
       "      <td>3aa071139cb16b67ca9e5dea641aaa2f</td>\n",
       "      <td>artes</td>\n",
       "      <td>44.0</td>\n",
       "      <td>276.0</td>\n",
       "      <td>1.0</td>\n",
       "      <td>1000.0</td>\n",
       "      <td>30.0</td>\n",
       "      <td>18.0</td>\n",
       "      <td>20.0</td>\n",
       "    </tr>\n",
       "    <tr>\n",
       "      <th>2</th>\n",
       "      <td>96bd76ec8810374ed1b65e291975717f</td>\n",
       "      <td>esporte_lazer</td>\n",
       "      <td>46.0</td>\n",
       "      <td>250.0</td>\n",
       "      <td>1.0</td>\n",
       "      <td>154.0</td>\n",
       "      <td>18.0</td>\n",
       "      <td>9.0</td>\n",
       "      <td>15.0</td>\n",
       "    </tr>\n",
       "    <tr>\n",
       "      <th>3</th>\n",
       "      <td>cef67bcfe19066a932b7673e239eb23d</td>\n",
       "      <td>bebes</td>\n",
       "      <td>27.0</td>\n",
       "      <td>261.0</td>\n",
       "      <td>1.0</td>\n",
       "      <td>371.0</td>\n",
       "      <td>26.0</td>\n",
       "      <td>4.0</td>\n",
       "      <td>26.0</td>\n",
       "    </tr>\n",
       "    <tr>\n",
       "      <th>4</th>\n",
       "      <td>9dc1a7de274444849c219cff195d0b71</td>\n",
       "      <td>utilidades_domesticas</td>\n",
       "      <td>37.0</td>\n",
       "      <td>402.0</td>\n",
       "      <td>4.0</td>\n",
       "      <td>625.0</td>\n",
       "      <td>20.0</td>\n",
       "      <td>17.0</td>\n",
       "      <td>13.0</td>\n",
       "    </tr>\n",
       "  </tbody>\n",
       "</table>\n",
       "</div>"
      ],
      "text/plain": [
       "                         product_id  product_category_name  \\\n",
       "0  1e9e8ef04dbcff4541ed26657ea517e5             perfumaria   \n",
       "1  3aa071139cb16b67ca9e5dea641aaa2f                  artes   \n",
       "2  96bd76ec8810374ed1b65e291975717f          esporte_lazer   \n",
       "3  cef67bcfe19066a932b7673e239eb23d                  bebes   \n",
       "4  9dc1a7de274444849c219cff195d0b71  utilidades_domesticas   \n",
       "\n",
       "   product_name_lenght  product_description_lenght  product_photos_qty  \\\n",
       "0                 40.0                       287.0                 1.0   \n",
       "1                 44.0                       276.0                 1.0   \n",
       "2                 46.0                       250.0                 1.0   \n",
       "3                 27.0                       261.0                 1.0   \n",
       "4                 37.0                       402.0                 4.0   \n",
       "\n",
       "   product_weight_g  product_length_cm  product_height_cm  product_width_cm  \n",
       "0             225.0               16.0               10.0              14.0  \n",
       "1            1000.0               30.0               18.0              20.0  \n",
       "2             154.0               18.0                9.0              15.0  \n",
       "3             371.0               26.0                4.0              26.0  \n",
       "4             625.0               20.0               17.0              13.0  "
      ]
     },
     "execution_count": 5,
     "metadata": {},
     "output_type": "execute_result"
    }
   ],
   "source": [
    "# Step 2.2: Preview Products Dataset\n",
    "\n",
    "products.head()\n"
   ]
  },
  {
   "cell_type": "markdown",
   "id": "195ba648",
   "metadata": {},
   "source": [
    "# Step 3: Data Cleaning and Preparation\n",
    "\n",
    "To analyse price elasticity, we need:\n",
    "\n",
    "- Product price information\n",
    "- Quantity sold per product\n",
    "\n",
    "We will merge the `order_items` and `products` datasets to combine unit price and product category details. We will also inspect for missing values and ensure data types are appropriate for analysis.\n"
   ]
  },
  {
   "cell_type": "code",
   "execution_count": 6,
   "id": "a46eb8ad",
   "metadata": {},
   "outputs": [
    {
     "name": "stdout",
     "output_type": "stream",
     "text": [
      "Missing values in order_items:\n",
      "order_id               0\n",
      "order_item_id          0\n",
      "product_id             0\n",
      "seller_id              0\n",
      "shipping_limit_date    0\n",
      "price                  0\n",
      "freight_value          0\n",
      "dtype: int64\n",
      "\n",
      "Missing values in products:\n",
      "product_id                      0\n",
      "product_category_name         610\n",
      "product_name_lenght           610\n",
      "product_description_lenght    610\n",
      "product_photos_qty            610\n",
      "product_weight_g                2\n",
      "product_length_cm               2\n",
      "product_height_cm               2\n",
      "product_width_cm                2\n",
      "dtype: int64\n"
     ]
    }
   ],
   "source": [
    "# Step 3: Check for Missing Values\n",
    "\n",
    "print(\"Missing values in order_items:\")\n",
    "print(order_items.isnull().sum())\n",
    "\n",
    "print(\"\\nMissing values in products:\")\n",
    "print(products.isnull().sum())\n"
   ]
  },
  {
   "cell_type": "markdown",
   "id": "b3cc3250",
   "metadata": {},
   "source": [
    "# Step 3.1: Merge Order Items with Products\n",
    "\n",
    "We will merge these two datasets on `product_id` to prepare for price vs quantity analysis.\n"
   ]
  },
  {
   "cell_type": "code",
   "execution_count": 7,
   "id": "630bdec3",
   "metadata": {},
   "outputs": [
    {
     "name": "stdout",
     "output_type": "stream",
     "text": [
      "Merged dataset shape: (112650, 15)\n"
     ]
    },
    {
     "data": {
      "application/vnd.microsoft.datawrangler.viewer.v0+json": {
       "columns": [
        {
         "name": "index",
         "rawType": "int64",
         "type": "integer"
        },
        {
         "name": "order_id",
         "rawType": "object",
         "type": "string"
        },
        {
         "name": "order_item_id",
         "rawType": "int64",
         "type": "integer"
        },
        {
         "name": "product_id",
         "rawType": "object",
         "type": "string"
        },
        {
         "name": "seller_id",
         "rawType": "object",
         "type": "string"
        },
        {
         "name": "shipping_limit_date",
         "rawType": "object",
         "type": "string"
        },
        {
         "name": "price",
         "rawType": "float64",
         "type": "float"
        },
        {
         "name": "freight_value",
         "rawType": "float64",
         "type": "float"
        },
        {
         "name": "product_category_name",
         "rawType": "object",
         "type": "string"
        },
        {
         "name": "product_name_lenght",
         "rawType": "float64",
         "type": "float"
        },
        {
         "name": "product_description_lenght",
         "rawType": "float64",
         "type": "float"
        },
        {
         "name": "product_photos_qty",
         "rawType": "float64",
         "type": "float"
        },
        {
         "name": "product_weight_g",
         "rawType": "float64",
         "type": "float"
        },
        {
         "name": "product_length_cm",
         "rawType": "float64",
         "type": "float"
        },
        {
         "name": "product_height_cm",
         "rawType": "float64",
         "type": "float"
        },
        {
         "name": "product_width_cm",
         "rawType": "float64",
         "type": "float"
        }
       ],
       "ref": "1f971690-53fc-4807-b450-61c40e78b373",
       "rows": [
        [
         "0",
         "00010242fe8c5a6d1ba2dd792cb16214",
         "1",
         "4244733e06e7ecb4970a6e2683c13e61",
         "48436dade18ac8b2bce089ec2a041202",
         "2017-09-19 09:45:35",
         "58.9",
         "13.29",
         "cool_stuff",
         "58.0",
         "598.0",
         "4.0",
         "650.0",
         "28.0",
         "9.0",
         "14.0"
        ],
        [
         "1",
         "00018f77f2f0320c557190d7a144bdd3",
         "1",
         "e5f2d52b802189ee658865ca93d83a8f",
         "dd7ddc04e1b6c2c614352b383efe2d36",
         "2017-05-03 11:05:13",
         "239.9",
         "19.93",
         "pet_shop",
         "56.0",
         "239.0",
         "2.0",
         "30000.0",
         "50.0",
         "30.0",
         "40.0"
        ],
        [
         "2",
         "000229ec398224ef6ca0657da4fc703e",
         "1",
         "c777355d18b72b67abbeef9df44fd0fd",
         "5b51032eddd242adc84c38acab88f23d",
         "2018-01-18 14:48:30",
         "199.0",
         "17.87",
         "moveis_decoracao",
         "59.0",
         "695.0",
         "2.0",
         "3050.0",
         "33.0",
         "13.0",
         "33.0"
        ],
        [
         "3",
         "00024acbcdf0a6daa1e931b038114c75",
         "1",
         "7634da152a4610f1595efa32f14722fc",
         "9d7a1d34a5052409006425275ba1c2b4",
         "2018-08-15 10:10:18",
         "12.99",
         "12.79",
         "perfumaria",
         "42.0",
         "480.0",
         "1.0",
         "200.0",
         "16.0",
         "10.0",
         "15.0"
        ],
        [
         "4",
         "00042b26cf59d7ce69dfabb4e55b4fd9",
         "1",
         "ac6c3623068f30de03045865e4e10089",
         "df560393f3a51e74553ab94004ba5c87",
         "2017-02-13 13:57:51",
         "199.9",
         "18.14",
         "ferramentas_jardim",
         "59.0",
         "409.0",
         "1.0",
         "3750.0",
         "35.0",
         "40.0",
         "30.0"
        ]
       ],
       "shape": {
        "columns": 15,
        "rows": 5
       }
      },
      "text/html": [
       "<div>\n",
       "<style scoped>\n",
       "    .dataframe tbody tr th:only-of-type {\n",
       "        vertical-align: middle;\n",
       "    }\n",
       "\n",
       "    .dataframe tbody tr th {\n",
       "        vertical-align: top;\n",
       "    }\n",
       "\n",
       "    .dataframe thead th {\n",
       "        text-align: right;\n",
       "    }\n",
       "</style>\n",
       "<table border=\"1\" class=\"dataframe\">\n",
       "  <thead>\n",
       "    <tr style=\"text-align: right;\">\n",
       "      <th></th>\n",
       "      <th>order_id</th>\n",
       "      <th>order_item_id</th>\n",
       "      <th>product_id</th>\n",
       "      <th>seller_id</th>\n",
       "      <th>shipping_limit_date</th>\n",
       "      <th>price</th>\n",
       "      <th>freight_value</th>\n",
       "      <th>product_category_name</th>\n",
       "      <th>product_name_lenght</th>\n",
       "      <th>product_description_lenght</th>\n",
       "      <th>product_photos_qty</th>\n",
       "      <th>product_weight_g</th>\n",
       "      <th>product_length_cm</th>\n",
       "      <th>product_height_cm</th>\n",
       "      <th>product_width_cm</th>\n",
       "    </tr>\n",
       "  </thead>\n",
       "  <tbody>\n",
       "    <tr>\n",
       "      <th>0</th>\n",
       "      <td>00010242fe8c5a6d1ba2dd792cb16214</td>\n",
       "      <td>1</td>\n",
       "      <td>4244733e06e7ecb4970a6e2683c13e61</td>\n",
       "      <td>48436dade18ac8b2bce089ec2a041202</td>\n",
       "      <td>2017-09-19 09:45:35</td>\n",
       "      <td>58.90</td>\n",
       "      <td>13.29</td>\n",
       "      <td>cool_stuff</td>\n",
       "      <td>58.0</td>\n",
       "      <td>598.0</td>\n",
       "      <td>4.0</td>\n",
       "      <td>650.0</td>\n",
       "      <td>28.0</td>\n",
       "      <td>9.0</td>\n",
       "      <td>14.0</td>\n",
       "    </tr>\n",
       "    <tr>\n",
       "      <th>1</th>\n",
       "      <td>00018f77f2f0320c557190d7a144bdd3</td>\n",
       "      <td>1</td>\n",
       "      <td>e5f2d52b802189ee658865ca93d83a8f</td>\n",
       "      <td>dd7ddc04e1b6c2c614352b383efe2d36</td>\n",
       "      <td>2017-05-03 11:05:13</td>\n",
       "      <td>239.90</td>\n",
       "      <td>19.93</td>\n",
       "      <td>pet_shop</td>\n",
       "      <td>56.0</td>\n",
       "      <td>239.0</td>\n",
       "      <td>2.0</td>\n",
       "      <td>30000.0</td>\n",
       "      <td>50.0</td>\n",
       "      <td>30.0</td>\n",
       "      <td>40.0</td>\n",
       "    </tr>\n",
       "    <tr>\n",
       "      <th>2</th>\n",
       "      <td>000229ec398224ef6ca0657da4fc703e</td>\n",
       "      <td>1</td>\n",
       "      <td>c777355d18b72b67abbeef9df44fd0fd</td>\n",
       "      <td>5b51032eddd242adc84c38acab88f23d</td>\n",
       "      <td>2018-01-18 14:48:30</td>\n",
       "      <td>199.00</td>\n",
       "      <td>17.87</td>\n",
       "      <td>moveis_decoracao</td>\n",
       "      <td>59.0</td>\n",
       "      <td>695.0</td>\n",
       "      <td>2.0</td>\n",
       "      <td>3050.0</td>\n",
       "      <td>33.0</td>\n",
       "      <td>13.0</td>\n",
       "      <td>33.0</td>\n",
       "    </tr>\n",
       "    <tr>\n",
       "      <th>3</th>\n",
       "      <td>00024acbcdf0a6daa1e931b038114c75</td>\n",
       "      <td>1</td>\n",
       "      <td>7634da152a4610f1595efa32f14722fc</td>\n",
       "      <td>9d7a1d34a5052409006425275ba1c2b4</td>\n",
       "      <td>2018-08-15 10:10:18</td>\n",
       "      <td>12.99</td>\n",
       "      <td>12.79</td>\n",
       "      <td>perfumaria</td>\n",
       "      <td>42.0</td>\n",
       "      <td>480.0</td>\n",
       "      <td>1.0</td>\n",
       "      <td>200.0</td>\n",
       "      <td>16.0</td>\n",
       "      <td>10.0</td>\n",
       "      <td>15.0</td>\n",
       "    </tr>\n",
       "    <tr>\n",
       "      <th>4</th>\n",
       "      <td>00042b26cf59d7ce69dfabb4e55b4fd9</td>\n",
       "      <td>1</td>\n",
       "      <td>ac6c3623068f30de03045865e4e10089</td>\n",
       "      <td>df560393f3a51e74553ab94004ba5c87</td>\n",
       "      <td>2017-02-13 13:57:51</td>\n",
       "      <td>199.90</td>\n",
       "      <td>18.14</td>\n",
       "      <td>ferramentas_jardim</td>\n",
       "      <td>59.0</td>\n",
       "      <td>409.0</td>\n",
       "      <td>1.0</td>\n",
       "      <td>3750.0</td>\n",
       "      <td>35.0</td>\n",
       "      <td>40.0</td>\n",
       "      <td>30.0</td>\n",
       "    </tr>\n",
       "  </tbody>\n",
       "</table>\n",
       "</div>"
      ],
      "text/plain": [
       "                           order_id  order_item_id  \\\n",
       "0  00010242fe8c5a6d1ba2dd792cb16214              1   \n",
       "1  00018f77f2f0320c557190d7a144bdd3              1   \n",
       "2  000229ec398224ef6ca0657da4fc703e              1   \n",
       "3  00024acbcdf0a6daa1e931b038114c75              1   \n",
       "4  00042b26cf59d7ce69dfabb4e55b4fd9              1   \n",
       "\n",
       "                         product_id                         seller_id  \\\n",
       "0  4244733e06e7ecb4970a6e2683c13e61  48436dade18ac8b2bce089ec2a041202   \n",
       "1  e5f2d52b802189ee658865ca93d83a8f  dd7ddc04e1b6c2c614352b383efe2d36   \n",
       "2  c777355d18b72b67abbeef9df44fd0fd  5b51032eddd242adc84c38acab88f23d   \n",
       "3  7634da152a4610f1595efa32f14722fc  9d7a1d34a5052409006425275ba1c2b4   \n",
       "4  ac6c3623068f30de03045865e4e10089  df560393f3a51e74553ab94004ba5c87   \n",
       "\n",
       "   shipping_limit_date   price  freight_value product_category_name  \\\n",
       "0  2017-09-19 09:45:35   58.90          13.29            cool_stuff   \n",
       "1  2017-05-03 11:05:13  239.90          19.93              pet_shop   \n",
       "2  2018-01-18 14:48:30  199.00          17.87      moveis_decoracao   \n",
       "3  2018-08-15 10:10:18   12.99          12.79            perfumaria   \n",
       "4  2017-02-13 13:57:51  199.90          18.14    ferramentas_jardim   \n",
       "\n",
       "   product_name_lenght  product_description_lenght  product_photos_qty  \\\n",
       "0                 58.0                       598.0                 4.0   \n",
       "1                 56.0                       239.0                 2.0   \n",
       "2                 59.0                       695.0                 2.0   \n",
       "3                 42.0                       480.0                 1.0   \n",
       "4                 59.0                       409.0                 1.0   \n",
       "\n",
       "   product_weight_g  product_length_cm  product_height_cm  product_width_cm  \n",
       "0             650.0               28.0                9.0              14.0  \n",
       "1           30000.0               50.0               30.0              40.0  \n",
       "2            3050.0               33.0               13.0              33.0  \n",
       "3             200.0               16.0               10.0              15.0  \n",
       "4            3750.0               35.0               40.0              30.0  "
      ]
     },
     "execution_count": 7,
     "metadata": {},
     "output_type": "execute_result"
    }
   ],
   "source": [
    "# Step 3.1: Merge datasets\n",
    "\n",
    "order_items_merged = pd.merge(order_items, products, on='product_id', how='left')\n",
    "\n",
    "# Check the shape and preview merged data\n",
    "print(\"Merged dataset shape:\", order_items_merged.shape)\n",
    "order_items_merged.head()\n"
   ]
  },
  {
   "cell_type": "markdown",
   "id": "cb82b658",
   "metadata": {},
   "source": [
    "# Step 3.2: Data Type Verification\n",
    "\n",
    "We will confirm the data types of relevant columns to ensure they are suitable for analysis.\n"
   ]
  },
  {
   "cell_type": "code",
   "execution_count": 8,
   "id": "2252ef37",
   "metadata": {},
   "outputs": [
    {
     "data": {
      "application/vnd.microsoft.datawrangler.viewer.v0+json": {
       "columns": [
        {
         "name": "index",
         "rawType": "object",
         "type": "string"
        },
        {
         "name": "0",
         "rawType": "object",
         "type": "unknown"
        }
       ],
       "ref": "35920724-f04c-45bf-b253-74b9aff6ca92",
       "rows": [
        [
         "order_id",
         "object"
        ],
        [
         "order_item_id",
         "int64"
        ],
        [
         "product_id",
         "object"
        ],
        [
         "seller_id",
         "object"
        ],
        [
         "shipping_limit_date",
         "object"
        ],
        [
         "price",
         "float64"
        ],
        [
         "freight_value",
         "float64"
        ],
        [
         "product_category_name",
         "object"
        ],
        [
         "product_name_lenght",
         "float64"
        ],
        [
         "product_description_lenght",
         "float64"
        ],
        [
         "product_photos_qty",
         "float64"
        ],
        [
         "product_weight_g",
         "float64"
        ],
        [
         "product_length_cm",
         "float64"
        ],
        [
         "product_height_cm",
         "float64"
        ],
        [
         "product_width_cm",
         "float64"
        ]
       ],
       "shape": {
        "columns": 1,
        "rows": 15
       }
      },
      "text/plain": [
       "order_id                       object\n",
       "order_item_id                   int64\n",
       "product_id                     object\n",
       "seller_id                      object\n",
       "shipping_limit_date            object\n",
       "price                         float64\n",
       "freight_value                 float64\n",
       "product_category_name          object\n",
       "product_name_lenght           float64\n",
       "product_description_lenght    float64\n",
       "product_photos_qty            float64\n",
       "product_weight_g              float64\n",
       "product_length_cm             float64\n",
       "product_height_cm             float64\n",
       "product_width_cm              float64\n",
       "dtype: object"
      ]
     },
     "execution_count": 8,
     "metadata": {},
     "output_type": "execute_result"
    }
   ],
   "source": [
    "# Step 3.2: Check data types\n",
    "\n",
    "order_items_merged.dtypes\n"
   ]
  },
  {
   "cell_type": "markdown",
   "id": "27ec8236",
   "metadata": {},
   "source": [
    "# Step 3.3: Filter Relevant Columns\n",
    "\n",
    "For this analysis, we only need:\n",
    "\n",
    "- product_id\n",
    "- price (order_items' `price`)\n",
    "- quantity (order_items' `order_item_id` counts per product, since each row is one unit sold)\n",
    "- product_category_name\n",
    "\n",
    "We will create a simplified dataframe with these columns.\n"
   ]
  },
  {
   "cell_type": "code",
   "execution_count": 9,
   "id": "406d0add",
   "metadata": {},
   "outputs": [
    {
     "data": {
      "application/vnd.microsoft.datawrangler.viewer.v0+json": {
       "columns": [
        {
         "name": "index",
         "rawType": "int64",
         "type": "integer"
        },
        {
         "name": "product_id",
         "rawType": "object",
         "type": "string"
        },
        {
         "name": "price",
         "rawType": "float64",
         "type": "float"
        },
        {
         "name": "product_category_name",
         "rawType": "object",
         "type": "string"
        }
       ],
       "ref": "a542cfca-46fd-4f62-b43b-5fd7f5ecc434",
       "rows": [
        [
         "0",
         "4244733e06e7ecb4970a6e2683c13e61",
         "58.9",
         "cool_stuff"
        ],
        [
         "1",
         "e5f2d52b802189ee658865ca93d83a8f",
         "239.9",
         "pet_shop"
        ],
        [
         "2",
         "c777355d18b72b67abbeef9df44fd0fd",
         "199.0",
         "moveis_decoracao"
        ],
        [
         "3",
         "7634da152a4610f1595efa32f14722fc",
         "12.99",
         "perfumaria"
        ],
        [
         "4",
         "ac6c3623068f30de03045865e4e10089",
         "199.9",
         "ferramentas_jardim"
        ]
       ],
       "shape": {
        "columns": 3,
        "rows": 5
       }
      },
      "text/html": [
       "<div>\n",
       "<style scoped>\n",
       "    .dataframe tbody tr th:only-of-type {\n",
       "        vertical-align: middle;\n",
       "    }\n",
       "\n",
       "    .dataframe tbody tr th {\n",
       "        vertical-align: top;\n",
       "    }\n",
       "\n",
       "    .dataframe thead th {\n",
       "        text-align: right;\n",
       "    }\n",
       "</style>\n",
       "<table border=\"1\" class=\"dataframe\">\n",
       "  <thead>\n",
       "    <tr style=\"text-align: right;\">\n",
       "      <th></th>\n",
       "      <th>product_id</th>\n",
       "      <th>price</th>\n",
       "      <th>product_category_name</th>\n",
       "    </tr>\n",
       "  </thead>\n",
       "  <tbody>\n",
       "    <tr>\n",
       "      <th>0</th>\n",
       "      <td>4244733e06e7ecb4970a6e2683c13e61</td>\n",
       "      <td>58.90</td>\n",
       "      <td>cool_stuff</td>\n",
       "    </tr>\n",
       "    <tr>\n",
       "      <th>1</th>\n",
       "      <td>e5f2d52b802189ee658865ca93d83a8f</td>\n",
       "      <td>239.90</td>\n",
       "      <td>pet_shop</td>\n",
       "    </tr>\n",
       "    <tr>\n",
       "      <th>2</th>\n",
       "      <td>c777355d18b72b67abbeef9df44fd0fd</td>\n",
       "      <td>199.00</td>\n",
       "      <td>moveis_decoracao</td>\n",
       "    </tr>\n",
       "    <tr>\n",
       "      <th>3</th>\n",
       "      <td>7634da152a4610f1595efa32f14722fc</td>\n",
       "      <td>12.99</td>\n",
       "      <td>perfumaria</td>\n",
       "    </tr>\n",
       "    <tr>\n",
       "      <th>4</th>\n",
       "      <td>ac6c3623068f30de03045865e4e10089</td>\n",
       "      <td>199.90</td>\n",
       "      <td>ferramentas_jardim</td>\n",
       "    </tr>\n",
       "  </tbody>\n",
       "</table>\n",
       "</div>"
      ],
      "text/plain": [
       "                         product_id   price product_category_name\n",
       "0  4244733e06e7ecb4970a6e2683c13e61   58.90            cool_stuff\n",
       "1  e5f2d52b802189ee658865ca93d83a8f  239.90              pet_shop\n",
       "2  c777355d18b72b67abbeef9df44fd0fd  199.00      moveis_decoracao\n",
       "3  7634da152a4610f1595efa32f14722fc   12.99            perfumaria\n",
       "4  ac6c3623068f30de03045865e4e10089  199.90    ferramentas_jardim"
      ]
     },
     "execution_count": 9,
     "metadata": {},
     "output_type": "execute_result"
    }
   ],
   "source": [
    "# Step 3.3: Prepare pricing dataframe\n",
    "\n",
    "pricing_df = order_items_merged[['product_id', 'price', 'product_category_name']]\n",
    "\n",
    "# Since each row represents one unit sold, we will later aggregate quantity by counting rows per product and calculate average price if needed.\n",
    "pricing_df.head()\n"
   ]
  },
  {
   "cell_type": "markdown",
   "id": "22c83f3e",
   "metadata": {},
   "source": [
    "# Step 4: Data Aggregation for EDA\n",
    "\n",
    "Now that I have merged the order items with product details, I will aggregate the data to prepare for exploratory analysis.\n",
    "\n",
    "My goal here is to:\n",
    "\n",
    "- Calculate the total quantity sold per product.\n",
    "- Calculate the average selling price per product.\n",
    "\n",
    "This will help me analyse how price influences quantity sold across products.\n"
   ]
  },
  {
   "cell_type": "code",
   "execution_count": 11,
   "id": "6a856e03",
   "metadata": {},
   "outputs": [
    {
     "name": "stdout",
     "output_type": "stream",
     "text": [
      "Aggregated data shape: (32951, 4)\n"
     ]
    },
    {
     "data": {
      "application/vnd.microsoft.datawrangler.viewer.v0+json": {
       "columns": [
        {
         "name": "index",
         "rawType": "int64",
         "type": "integer"
        },
        {
         "name": "product_id",
         "rawType": "object",
         "type": "string"
        },
        {
         "name": "total_quantity_sold",
         "rawType": "int64",
         "type": "integer"
        },
        {
         "name": "average_price",
         "rawType": "float64",
         "type": "float"
        },
        {
         "name": "product_category",
         "rawType": "object",
         "type": "string"
        }
       ],
       "ref": "e0601b47-8314-447e-b25d-63a6d2348f96",
       "rows": [
        [
         "0",
         "00066f42aeeb9f3007548bb9d3f33c38",
         "1",
         "101.65",
         "perfumaria"
        ],
        [
         "1",
         "00088930e925c41fd95ebfe695fd2655",
         "1",
         "129.9",
         "automotivo"
        ],
        [
         "2",
         "0009406fd7479715e4bef61dd91f2462",
         "1",
         "229.0",
         "cama_mesa_banho"
        ],
        [
         "3",
         "000b8f95fcb9e0096488278317764d19",
         "2",
         "58.9",
         "utilidades_domesticas"
        ],
        [
         "4",
         "000d9be29b5207b54e86aa1b1ac54872",
         "1",
         "199.0",
         "relogios_presentes"
        ]
       ],
       "shape": {
        "columns": 4,
        "rows": 5
       }
      },
      "text/html": [
       "<div>\n",
       "<style scoped>\n",
       "    .dataframe tbody tr th:only-of-type {\n",
       "        vertical-align: middle;\n",
       "    }\n",
       "\n",
       "    .dataframe tbody tr th {\n",
       "        vertical-align: top;\n",
       "    }\n",
       "\n",
       "    .dataframe thead th {\n",
       "        text-align: right;\n",
       "    }\n",
       "</style>\n",
       "<table border=\"1\" class=\"dataframe\">\n",
       "  <thead>\n",
       "    <tr style=\"text-align: right;\">\n",
       "      <th></th>\n",
       "      <th>product_id</th>\n",
       "      <th>total_quantity_sold</th>\n",
       "      <th>average_price</th>\n",
       "      <th>product_category</th>\n",
       "    </tr>\n",
       "  </thead>\n",
       "  <tbody>\n",
       "    <tr>\n",
       "      <th>0</th>\n",
       "      <td>00066f42aeeb9f3007548bb9d3f33c38</td>\n",
       "      <td>1</td>\n",
       "      <td>101.65</td>\n",
       "      <td>perfumaria</td>\n",
       "    </tr>\n",
       "    <tr>\n",
       "      <th>1</th>\n",
       "      <td>00088930e925c41fd95ebfe695fd2655</td>\n",
       "      <td>1</td>\n",
       "      <td>129.90</td>\n",
       "      <td>automotivo</td>\n",
       "    </tr>\n",
       "    <tr>\n",
       "      <th>2</th>\n",
       "      <td>0009406fd7479715e4bef61dd91f2462</td>\n",
       "      <td>1</td>\n",
       "      <td>229.00</td>\n",
       "      <td>cama_mesa_banho</td>\n",
       "    </tr>\n",
       "    <tr>\n",
       "      <th>3</th>\n",
       "      <td>000b8f95fcb9e0096488278317764d19</td>\n",
       "      <td>2</td>\n",
       "      <td>58.90</td>\n",
       "      <td>utilidades_domesticas</td>\n",
       "    </tr>\n",
       "    <tr>\n",
       "      <th>4</th>\n",
       "      <td>000d9be29b5207b54e86aa1b1ac54872</td>\n",
       "      <td>1</td>\n",
       "      <td>199.00</td>\n",
       "      <td>relogios_presentes</td>\n",
       "    </tr>\n",
       "  </tbody>\n",
       "</table>\n",
       "</div>"
      ],
      "text/plain": [
       "                         product_id  total_quantity_sold  average_price  \\\n",
       "0  00066f42aeeb9f3007548bb9d3f33c38                    1         101.65   \n",
       "1  00088930e925c41fd95ebfe695fd2655                    1         129.90   \n",
       "2  0009406fd7479715e4bef61dd91f2462                    1         229.00   \n",
       "3  000b8f95fcb9e0096488278317764d19                    2          58.90   \n",
       "4  000d9be29b5207b54e86aa1b1ac54872                    1         199.00   \n",
       "\n",
       "        product_category  \n",
       "0             perfumaria  \n",
       "1             automotivo  \n",
       "2        cama_mesa_banho  \n",
       "3  utilidades_domesticas  \n",
       "4     relogios_presentes  "
      ]
     },
     "execution_count": 11,
     "metadata": {},
     "output_type": "execute_result"
    }
   ],
   "source": [
    "# Step 4: Aggregate data for each product\n",
    "\n",
    "# Calculate total quantity sold per product\n",
    "quantity_df = order_items_merged.groupby('product_id').agg(\n",
    "    total_quantity_sold=('order_id', 'count'),\n",
    "    average_price=('price', 'mean'),\n",
    "    product_category=('product_category_name', 'first')\n",
    ").reset_index()\n",
    "\n",
    "# Check the shape and preview\n",
    "print(\"Aggregated data shape:\", quantity_df.shape)\n",
    "quantity_df.head()\n"
   ]
  },
  {
   "cell_type": "markdown",
   "id": "baafd061",
   "metadata": {},
   "source": [
    "# Step 4.1: Check for Zero or Negative Prices\n",
    "\n",
    "I will check if there are any products with zero or negative prices, as they are not valid for this analysis.\n"
   ]
  },
  {
   "cell_type": "code",
   "execution_count": 12,
   "id": "8c498dea",
   "metadata": {},
   "outputs": [
    {
     "data": {
      "application/vnd.microsoft.datawrangler.viewer.v0+json": {
       "columns": [
        {
         "name": "index",
         "rawType": "int64",
         "type": "integer"
        },
        {
         "name": "product_id",
         "rawType": "object",
         "type": "string"
        },
        {
         "name": "total_quantity_sold",
         "rawType": "int64",
         "type": "integer"
        },
        {
         "name": "average_price",
         "rawType": "float64",
         "type": "float"
        },
        {
         "name": "product_category",
         "rawType": "object",
         "type": "string"
        }
       ],
       "ref": "238c0715-8c0a-48c9-87b1-68f5b465e3b7",
       "rows": [],
       "shape": {
        "columns": 4,
        "rows": 0
       }
      },
      "text/html": [
       "<div>\n",
       "<style scoped>\n",
       "    .dataframe tbody tr th:only-of-type {\n",
       "        vertical-align: middle;\n",
       "    }\n",
       "\n",
       "    .dataframe tbody tr th {\n",
       "        vertical-align: top;\n",
       "    }\n",
       "\n",
       "    .dataframe thead th {\n",
       "        text-align: right;\n",
       "    }\n",
       "</style>\n",
       "<table border=\"1\" class=\"dataframe\">\n",
       "  <thead>\n",
       "    <tr style=\"text-align: right;\">\n",
       "      <th></th>\n",
       "      <th>product_id</th>\n",
       "      <th>total_quantity_sold</th>\n",
       "      <th>average_price</th>\n",
       "      <th>product_category</th>\n",
       "    </tr>\n",
       "  </thead>\n",
       "  <tbody>\n",
       "  </tbody>\n",
       "</table>\n",
       "</div>"
      ],
      "text/plain": [
       "Empty DataFrame\n",
       "Columns: [product_id, total_quantity_sold, average_price, product_category]\n",
       "Index: []"
      ]
     },
     "execution_count": 12,
     "metadata": {},
     "output_type": "execute_result"
    }
   ],
   "source": [
    "# Step 4.1: Check for zero or negative prices\n",
    "\n",
    "quantity_df[quantity_df['average_price'] <= 0]\n"
   ]
  },
  {
   "cell_type": "markdown",
   "id": "13b46394",
   "metadata": {},
   "source": [
    "# Step 5: Exploratory Data Analysis (EDA)\n",
    "\n",
    "I will now create scatterplots to visualise the relationship between average price and total quantity sold for each product.\n",
    "\n",
    "This will give me an initial understanding of the price-demand pattern before running regression models to calculate elasticity.\n"
   ]
  },
  {
   "cell_type": "code",
   "execution_count": 13,
   "id": "98d747ae",
   "metadata": {},
   "outputs": [
    {
     "data": {
      "image/png": "[encoded data removed]",
      "text/plain": [
       "<Figure size 1000x600 with 1 Axes>"
      ]
     },
     "metadata": {},
     "output_type": "display_data"
    }
   ],
   "source": [
    "# Step 5: Scatterplot of Price vs Quantity Sold\n",
    "\n",
    "plt.figure(figsize=(10,6))\n",
    "sns.scatterplot(data=quantity_df, x='average_price', y='total_quantity_sold')\n",
    "plt.title('Average Price vs Total Quantity Sold per Product')\n",
    "plt.xlabel('Average Price (BRL)')\n",
    "plt.ylabel('Total Quantity Sold')\n",
    "plt.show()\n"
   ]
  },
  {
   "cell_type": "markdown",
   "id": "1f190867",
   "metadata": {},
   "source": [
    "# Step 6: Price Elasticity Modelling\n",
    "\n",
    "To estimate price elasticity of demand, I will run a log-log regression model where:\n",
    "\n",
    "- The dependent variable is log(total quantity sold)\n",
    "- The independent variable is log(average price)\n",
    "\n",
    "The coefficient from this model will directly give me the price elasticity of demand, indicating how a 1% change in price affects the quantity sold in percentage terms.\n"
   ]
  },
  {
   "cell_type": "code",
   "execution_count": 14,
   "id": "e9ef43d5",
   "metadata": {},
   "outputs": [
    {
     "data": {
      "application/vnd.microsoft.datawrangler.viewer.v0+json": {
       "columns": [
        {
         "name": "index",
         "rawType": "int64",
         "type": "integer"
        },
        {
         "name": "product_id",
         "rawType": "object",
         "type": "string"
        },
        {
         "name": "total_quantity_sold",
         "rawType": "int64",
         "type": "integer"
        },
        {
         "name": "average_price",
         "rawType": "float64",
         "type": "float"
        },
        {
         "name": "product_category",
         "rawType": "object",
         "type": "string"
        },
        {
         "name": "log_quantity",
         "rawType": "float64",
         "type": "float"
        },
        {
         "name": "log_price",
         "rawType": "float64",
         "type": "float"
        }
       ],
       "ref": "8756012b-f8dd-426e-add3-cb26ee50a45b",
       "rows": [
        [
         "0",
         "00066f42aeeb9f3007548bb9d3f33c38",
         "1",
         "101.65",
         "perfumaria",
         "0.0",
         "4.621535540074356"
        ],
        [
         "1",
         "00088930e925c41fd95ebfe695fd2655",
         "1",
         "129.9",
         "automotivo",
         "0.0",
         "4.866764923676554"
        ],
        [
         "2",
         "0009406fd7479715e4bef61dd91f2462",
         "1",
         "229.0",
         "cama_mesa_banho",
         "0.0",
         "5.43372200355424"
        ],
        [
         "3",
         "000b8f95fcb9e0096488278317764d19",
         "2",
         "58.9",
         "utilidades_domesticas",
         "0.6931471805599453",
         "4.075841090657541"
        ],
        [
         "4",
         "000d9be29b5207b54e86aa1b1ac54872",
         "1",
         "199.0",
         "relogios_presentes",
         "0.0",
         "5.293304824724492"
        ]
       ],
       "shape": {
        "columns": 6,
        "rows": 5
       }
      },
      "text/html": [
       "<div>\n",
       "<style scoped>\n",
       "    .dataframe tbody tr th:only-of-type {\n",
       "        vertical-align: middle;\n",
       "    }\n",
       "\n",
       "    .dataframe tbody tr th {\n",
       "        vertical-align: top;\n",
       "    }\n",
       "\n",
       "    .dataframe thead th {\n",
       "        text-align: right;\n",
       "    }\n",
       "</style>\n",
       "<table border=\"1\" class=\"dataframe\">\n",
       "  <thead>\n",
       "    <tr style=\"text-align: right;\">\n",
       "      <th></th>\n",
       "      <th>product_id</th>\n",
       "      <th>total_quantity_sold</th>\n",
       "      <th>average_price</th>\n",
       "      <th>product_category</th>\n",
       "      <th>log_quantity</th>\n",
       "      <th>log_price</th>\n",
       "    </tr>\n",
       "  </thead>\n",
       "  <tbody>\n",
       "    <tr>\n",
       "      <th>0</th>\n",
       "      <td>00066f42aeeb9f3007548bb9d3f33c38</td>\n",
       "      <td>1</td>\n",
       "      <td>101.65</td>\n",
       "      <td>perfumaria</td>\n",
       "      <td>0.000000</td>\n",
       "      <td>4.621536</td>\n",
       "    </tr>\n",
       "    <tr>\n",
       "      <th>1</th>\n",
       "      <td>00088930e925c41fd95ebfe695fd2655</td>\n",
       "      <td>1</td>\n",
       "      <td>129.90</td>\n",
       "      <td>automotivo</td>\n",
       "      <td>0.000000</td>\n",
       "      <td>4.866765</td>\n",
       "    </tr>\n",
       "    <tr>\n",
       "      <th>2</th>\n",
       "      <td>0009406fd7479715e4bef61dd91f2462</td>\n",
       "      <td>1</td>\n",
       "      <td>229.00</td>\n",
       "      <td>cama_mesa_banho</td>\n",
       "      <td>0.000000</td>\n",
       "      <td>5.433722</td>\n",
       "    </tr>\n",
       "    <tr>\n",
       "      <th>3</th>\n",
       "      <td>000b8f95fcb9e0096488278317764d19</td>\n",
       "      <td>2</td>\n",
       "      <td>58.90</td>\n",
       "      <td>utilidades_domesticas</td>\n",
       "      <td>0.693147</td>\n",
       "      <td>4.075841</td>\n",
       "    </tr>\n",
       "    <tr>\n",
       "      <th>4</th>\n",
       "      <td>000d9be29b5207b54e86aa1b1ac54872</td>\n",
       "      <td>1</td>\n",
       "      <td>199.00</td>\n",
       "      <td>relogios_presentes</td>\n",
       "      <td>0.000000</td>\n",
       "      <td>5.293305</td>\n",
       "    </tr>\n",
       "  </tbody>\n",
       "</table>\n",
       "</div>"
      ],
      "text/plain": [
       "                         product_id  total_quantity_sold  average_price  \\\n",
       "0  00066f42aeeb9f3007548bb9d3f33c38                    1         101.65   \n",
       "1  00088930e925c41fd95ebfe695fd2655                    1         129.90   \n",
       "2  0009406fd7479715e4bef61dd91f2462                    1         229.00   \n",
       "3  000b8f95fcb9e0096488278317764d19                    2          58.90   \n",
       "4  000d9be29b5207b54e86aa1b1ac54872                    1         199.00   \n",
       "\n",
       "        product_category  log_quantity  log_price  \n",
       "0             perfumaria      0.000000   4.621536  \n",
       "1             automotivo      0.000000   4.866765  \n",
       "2        cama_mesa_banho      0.000000   5.433722  \n",
       "3  utilidades_domesticas      0.693147   4.075841  \n",
       "4     relogios_presentes      0.000000   5.293305  "
      ]
     },
     "execution_count": 14,
     "metadata": {},
     "output_type": "execute_result"
    }
   ],
   "source": [
    "# Step 6: Import statsmodels for regression\n",
    "\n",
    "import statsmodels.api as sm\n",
    "\n",
    "# Prepare data for regression\n",
    "\n",
    "# Remove products with zero quantity sold to avoid log(0) issues\n",
    "regression_df = quantity_df[quantity_df['total_quantity_sold'] > 0].copy()\n",
    "\n",
    "# Apply log transformation\n",
    "regression_df['log_quantity'] = np.log(regression_df['total_quantity_sold'])\n",
    "regression_df['log_price'] = np.log(regression_df['average_price'])\n",
    "\n",
    "# Check transformed data\n",
    "regression_df.head()\n"
   ]
  },
  {
   "cell_type": "markdown",
   "id": "633f6073",
   "metadata": {},
   "source": [
    "# Step 6.1: Run Log-Log Regression\n",
    "\n",
    "I will run an OLS regression using statsmodels to estimate the elasticity coefficient.\n"
   ]
  },
  {
   "cell_type": "code",
   "execution_count": 15,
   "id": "a41c7850",
   "metadata": {},
   "outputs": [
    {
     "name": "stdout",
     "output_type": "stream",
     "text": [
      "                            OLS Regression Results                            \n",
      "==============================================================================\n",
      "Dep. Variable:           log_quantity   R-squared:                       0.005\n",
      "Model:                            OLS   Adj. R-squared:                  0.005\n",
      "Method:                 Least Squares   F-statistic:                     164.4\n",
      "Date:                Wed, 09 Jul 2025   Prob (F-statistic):           1.49e-37\n",
      "Time:                        21:53:32   Log-Likelihood:                -41563.\n",
      "No. Observations:               32951   AIC:                         8.313e+04\n",
      "Df Residuals:                   32949   BIC:                         8.315e+04\n",
      "Df Model:                           1                                         \n",
      "Covariance Type:            nonrobust                                         \n",
      "==============================================================================\n",
      "                 coef    std err          t      P>|t|      [0.025      0.975]\n",
      "------------------------------------------------------------------------------\n",
      "const          0.8698      0.021     41.720      0.000       0.829       0.911\n",
      "log_price     -0.0592      0.005    -12.824      0.000      -0.068      -0.050\n",
      "==============================================================================\n",
      "Omnibus:                     9983.051   Durbin-Watson:                   1.998\n",
      "Prob(Omnibus):                  0.000   Jarque-Bera (JB):            26987.421\n",
      "Skew:                           1.639   Prob(JB):                         0.00\n",
      "Kurtosis:                       5.985   Cond. No.                         20.9\n",
      "==============================================================================\n",
      "\n",
      "Notes:\n",
      "[1] Standard Errors assume that the covariance matrix of the errors is correctly specified.\n"
     ]
    }
   ],
   "source": [
    "# Step 6.1: Define X and y\n",
    "\n",
    "X = regression_df['log_price']\n",
    "y = regression_df['log_quantity']\n",
    "\n",
    "# Add constant for intercept\n",
    "X = sm.add_constant(X)\n",
    "\n",
    "# Fit the model\n",
    "model = sm.OLS(y, X).fit()\n",
    "\n",
    "# Display regression summary\n",
    "print(model.summary())\n"
   ]
  },
  {
   "cell_type": "markdown",
   "id": "f433a7f1",
   "metadata": {},
   "source": [
    "# Step 6.2: Interpret Elasticity Coefficient\n",
    "\n",
    "I will interpret the coefficient of log_price from the regression summary to understand:\n",
    "\n",
    "- If elasticity is greater than 1 (elastic demand)\n",
    "- If elasticity is less than 1 (inelastic demand)\n",
    "- The direction of impact (should be negative for normal goods)\n",
    "\n",
    "Check out Google Doc for more detail"
   ]
  },
  {
   "cell_type": "markdown",
   "id": "cc19eff7",
   "metadata": {},
   "source": [
    "# Step 7: Revenue Simulation\n",
    "\n",
    "I want to understand how revenue would change if I increase prices by 5%, 10%, or 20%.\n",
    "\n",
    "Since revenue = price * quantity, and quantity changes with price elasticity, I will:\n",
    "\n",
    "1. Calculate the new price (original price * (1 + percentage increase)).\n",
    "2. Calculate the expected new quantity using the elasticity formula:\n",
    "   \n",
    "   % change in quantity = elasticity * % change in price\n",
    "\n",
    "3. Calculate new quantity = original quantity * (1 + % change in quantity).\n",
    "\n",
    "4. Calculate new revenue = new price * new quantity.\n",
    "\n",
    "5. Compare it to current revenue to decide the optimal price adjustment.\n"
   ]
  },
  {
   "cell_type": "code",
   "execution_count": 17,
   "id": "95782ee3",
   "metadata": {},
   "outputs": [
    {
     "name": "stdout",
     "output_type": "stream",
     "text": [
      "5% Price Increase Simulation:\n",
      "Total current revenue: 13,591,643.70\n",
      "Total new revenue with 5% price increase: 14,228,983.06\n",
      "Absolute revenue change: 637,339.36\n",
      "Percentage revenue change: 4.69%\n",
      "\n",
      "10% Price Increase Simulation:\n",
      "Total current revenue: 13,591,643.70\n",
      "Total new revenue with 10% price increase: 14,862,299.29\n",
      "Absolute revenue change: 1,270,655.59\n",
      "Percentage revenue change: 9.35%\n",
      "\n",
      "20% Price Increase Simulation:\n",
      "Total current revenue: 13,591,643.70\n",
      "Total new revenue with 20% price increase: 16,116,862.37\n",
      "Absolute revenue change: 2,525,218.67\n",
      "Percentage revenue change: 18.58%\n"
     ]
    },
    {
     "data": {
      "application/vnd.microsoft.datawrangler.viewer.v0+json": {
       "columns": [
        {
         "name": "index",
         "rawType": "int64",
         "type": "integer"
        },
        {
         "name": "product_id",
         "rawType": "object",
         "type": "string"
        },
        {
         "name": "total_quantity_sold",
         "rawType": "int64",
         "type": "integer"
        },
        {
         "name": "average_price",
         "rawType": "float64",
         "type": "float"
        },
        {
         "name": "product_category",
         "rawType": "object",
         "type": "unknown"
        },
        {
         "name": "new_price",
         "rawType": "float64",
         "type": "float"
        },
        {
         "name": "expected_qty_change_pct",
         "rawType": "float64",
         "type": "float"
        },
        {
         "name": "new_quantity",
         "rawType": "float64",
         "type": "float"
        },
        {
         "name": "current_revenue",
         "rawType": "float64",
         "type": "float"
        },
        {
         "name": "new_revenue",
         "rawType": "float64",
         "type": "float"
        },
        {
         "name": "revenue_change_pct",
         "rawType": "float64",
         "type": "float"
        }
       ],
       "ref": "4eb0834e-a5b9-4e90-a9da-40f177baf51b",
       "rows": [
        [
         "0",
         "00066f42aeeb9f3007548bb9d3f33c38",
         "1",
         "101.65",
         "perfumaria",
         "121.98",
         "-0.011840000000000002",
         "0.98816",
         "101.65",
         "120.53575680000002",
         "18.57920000000001"
        ],
        [
         "1",
         "00088930e925c41fd95ebfe695fd2655",
         "1",
         "129.9",
         "automotivo",
         "155.88",
         "-0.011840000000000002",
         "0.98816",
         "129.9",
         "154.0343808",
         "18.5792"
        ],
        [
         "2",
         "0009406fd7479715e4bef61dd91f2462",
         "1",
         "229.0",
         "cama_mesa_banho",
         "274.8",
         "-0.011840000000000002",
         "0.98816",
         "229.0",
         "271.54636800000003",
         "18.57920000000001"
        ],
        [
         "3",
         "000b8f95fcb9e0096488278317764d19",
         "2",
         "58.9",
         "utilidades_domesticas",
         "70.67999999999999",
         "-0.011840000000000002",
         "1.97632",
         "117.8",
         "139.6862976",
         "18.579199999999993"
        ],
        [
         "4",
         "000d9be29b5207b54e86aa1b1ac54872",
         "1",
         "199.0",
         "relogios_presentes",
         "238.79999999999998",
         "-0.011840000000000002",
         "0.98816",
         "199.0",
         "235.97260799999998",
         "18.57919999999999"
        ],
        [
         "5",
         "0011c512eb256aa0dbbb544d8dffcf6e",
         "1",
         "52.0",
         "automotivo",
         "62.4",
         "-0.011840000000000002",
         "0.98816",
         "52.0",
         "61.661184",
         "18.5792"
        ],
        [
         "6",
         "00126f27c813603687e6ce486d909d01",
         "2",
         "249.0",
         "cool_stuff",
         "298.8",
         "-0.011840000000000002",
         "1.97632",
         "498.0",
         "590.5244160000001",
         "18.579200000000018"
        ],
        [
         "7",
         "001795ec6f1b187d37335e1c4704762e",
         "9",
         "38.9",
         "consoles_games",
         "46.68",
         "-0.011840000000000002",
         "8.89344",
         "350.09999999999997",
         "415.1457792",
         "18.57920000000001"
        ],
        [
         "8",
         "001b237c0e9bb435f2e54071129237e9",
         "1",
         "78.9",
         "cama_mesa_banho",
         "94.68",
         "-0.011840000000000002",
         "0.98816",
         "78.9",
         "93.55898880000001",
         "18.5792"
        ],
        [
         "9",
         "001b72dfd63e9833e8c02742adf472e3",
         "14",
         "34.99",
         "moveis_decoracao",
         "41.988",
         "-0.011840000000000002",
         "13.834240000000001",
         "489.86",
         "580.87206912",
         "18.579199999999997"
        ],
        [
         "10",
         "001c5d71ac6ad696d22315953758fa04",
         "1",
         "79.9",
         "cama_mesa_banho",
         "95.88000000000001",
         "-0.011840000000000002",
         "0.98816",
         "79.9",
         "94.74478080000002",
         "18.57920000000001"
        ],
        [
         "11",
         "00210e41887c2a8ef9f791ebc780cc36",
         "7",
         "33.41285714285714",
         "beleza_saude",
         "40.09542857142857",
         "-0.011840000000000002",
         "6.917120000000001",
         "233.89",
         "277.34489088000004",
         "18.579200000000025"
        ],
        [
         "12",
         "002159fe700ed3521f46cfcf6e941c76",
         "8",
         "202.325",
         "fashion_calcados",
         "242.78999999999996",
         "-0.011840000000000002",
         "7.90528",
         "1618.6",
         "1919.3229311999999",
         "18.5792"
        ],
        [
         "13",
         "0021a87d4997a48b6cef1665602be0f5",
         "1",
         "29.0",
         "informatica_acessorios",
         "34.8",
         "-0.011840000000000002",
         "0.98816",
         "29.0",
         "34.387968",
         "18.5792"
        ],
        [
         "14",
         "00250175f79f584c14ab5cecd80553cd",
         "11",
         "75.44454545454545",
         "utilidades_domesticas",
         "90.53345454545453",
         "-0.011840000000000002",
         "10.869760000000001",
         "829.8899999999999",
         "984.07692288",
         "18.579200000000014"
        ],
        [
         "15",
         "002552c0663708129c0019cc97552d7d",
         "1",
         "108.0",
         "cool_stuff",
         "129.6",
         "-0.011840000000000002",
         "0.98816",
         "108.0",
         "128.065536",
         "18.579200000000007"
        ],
        [
         "16",
         "002959d7a0b0990fe2d69988affcbc80",
         "1",
         "129.9",
         "moveis_decoracao",
         "155.88",
         "-0.011840000000000002",
         "0.98816",
         "129.9",
         "154.0343808",
         "18.5792"
        ],
        [
         "17",
         "002af88741ba70c7b5cf4e4a0ad7ef85",
         "6",
         "39.0",
         "cool_stuff",
         "46.8",
         "-0.011840000000000002",
         "5.92896",
         "234.0",
         "277.475328",
         "18.579199999999997"
        ],
        [
         "18",
         "002c6dab60557c48cfd6c2222ef7fd76",
         "1",
         "79.9",
         "brinquedos",
         "95.88000000000001",
         "-0.011840000000000002",
         "0.98816",
         "79.9",
         "94.74478080000002",
         "18.57920000000001"
        ],
        [
         "19",
         "002d4ea7c04739c130bb74d7e7cd1694",
         "1",
         "43.0",
         "pet_shop",
         "51.6",
         "-0.011840000000000002",
         "0.98816",
         "43.0",
         "50.989056000000005",
         "18.57920000000001"
        ],
        [
         "20",
         "002ec297b1b00fb9dde7ee6ac24b6771",
         "1",
         "16.0",
         "utilidades_domesticas",
         "19.2",
         "-0.011840000000000002",
         "0.98816",
         "16.0",
         "18.972672",
         "18.579199999999997"
        ],
        [
         "21",
         "0030026a6ddb3b2d1d4bc225b4b4c4da",
         "1",
         "39.9",
         "esporte_lazer",
         "47.879999999999995",
         "-0.011840000000000002",
         "0.98816",
         "39.9",
         "47.3131008",
         "18.579200000000007"
        ],
        [
         "22",
         "0030e635639c898b323826589761cf23",
         "2",
         "153.0",
         "ferramentas_jardim",
         "183.6",
         "-0.011840000000000002",
         "1.97632",
         "306.0",
         "362.852352",
         "18.5792"
        ],
        [
         "23",
         "003128f981470c3e5a2e7445e4a771cd",
         "2",
         "99.98",
         "esporte_lazer",
         "119.976",
         "-0.011840000000000002",
         "1.97632",
         "199.96",
         "237.11096832",
         "18.5792"
        ],
        [
         "24",
         "0036bb031e69d915cd384d1b3838b5d3",
         "1",
         "35.99",
         "ferramentas_jardim",
         "43.188",
         "-0.011840000000000002",
         "0.98816",
         "35.99",
         "42.676654080000006",
         "18.57920000000001"
        ],
        [
         "25",
         "003938452c98ff9ab28e9e7b4bfe97ab",
         "1",
         "179.9",
         "moveis_sala",
         "215.88",
         "-0.011840000000000002",
         "0.98816",
         "179.9",
         "213.32398080000002",
         "18.579200000000004"
        ],
        [
         "26",
         "003962cb74a8b43cf1034fed541a76f0",
         "1",
         "94.9",
         "malas_acessorios",
         "113.88000000000001",
         "-0.011840000000000002",
         "0.98816",
         "94.9",
         "112.53166080000001",
         "18.579200000000004"
        ],
        [
         "27",
         "003a31970fea14fffe92ac856b8a9b97",
         "3",
         "222.0",
         "casa_construcao",
         "266.4",
         "-0.011840000000000002",
         "2.96448",
         "666.0",
         "789.7374719999999",
         "18.579199999999986"
        ],
        [
         "28",
         "003c0b8f6580c850bd2e32044d2ac307",
         "2",
         "449.0",
         "moveis_cozinha_area_de_servico_jantar_e_jardim",
         "538.8",
         "-0.011840000000000002",
         "1.97632",
         "898.0",
         "1064.841216",
         "18.579200000000004"
        ],
        [
         "29",
         "003dbcabcf8e3231de657c7d9f9a5eba",
         "2",
         "36.0",
         "esporte_lazer",
         "43.199999999999996",
         "-0.011840000000000002",
         "1.97632",
         "72.0",
         "85.37702399999999",
         "18.579199999999986"
        ],
        [
         "30",
         "004154251837f6ac124ad4374b3a8148",
         "1",
         "14.9",
         "moveis_decoracao",
         "17.88",
         "-0.011840000000000002",
         "0.98816",
         "14.9",
         "17.6683008",
         "18.5792"
        ],
        [
         "31",
         "0042f1a9a7e0edd1400c6cd0fda065f8",
         "1",
         "39.9",
         "beleza_saude",
         "47.879999999999995",
         "-0.011840000000000002",
         "0.98816",
         "39.9",
         "47.3131008",
         "18.579200000000007"
        ],
        [
         "32",
         "0043c62d00db47eff6a6bc4cf6bfaeda",
         "1",
         "527.99",
         "esporte_lazer",
         "633.588",
         "-0.011840000000000002",
         "0.98816",
         "527.99",
         "626.08631808",
         "18.57919999999999"
        ],
        [
         "33",
         "0043d1a25ef08fb6f41b8fa6f91742ab",
         "1",
         "390.0",
         "construcao_ferramentas_construcao",
         "468.0",
         "-0.011840000000000002",
         "0.98816",
         "390.0",
         "462.45888",
         "18.579200000000007"
        ],
        [
         "34",
         "0044d70d4e53450c0fbb8255446a797b",
         "1",
         "19.25",
         "esporte_lazer",
         "23.099999999999998",
         "-0.011840000000000002",
         "0.98816",
         "19.25",
         "22.826496",
         "18.579199999999993"
        ],
        [
         "35",
         "004552d98c5d3653af8b4dbe8def0048",
         "1",
         "349.9",
         "moveis_decoracao",
         "419.87999999999994",
         "-0.011840000000000002",
         "0.98816",
         "349.9",
         "414.90862079999994",
         "18.57919999999999"
        ],
        [
         "36",
         "004636c889c7c3dad6631f136b7fa082",
         "4",
         "49.0",
         "utilidades_domesticas",
         "58.8",
         "-0.011840000000000002",
         "3.95264",
         "196.0",
         "232.415232",
         "18.5792"
        ],
        [
         "37",
         "004ffcbfa5aac82212a95bc972ea8a85",
         "1",
         "229.0",
         "moveis_quarto",
         "274.8",
         "-0.011840000000000002",
         "0.98816",
         "229.0",
         "271.54636800000003",
         "18.57920000000001"
        ],
        [
         "38",
         "005030ef108f58b46b78116f754d8d38",
         "13",
         "14.75923076923077",
         "perfumaria",
         "17.711076923076924",
         "-0.011840000000000002",
         "12.84608",
         "191.87",
         "227.51791104000003",
         "18.57920000000001"
        ],
        [
         "39",
         "005c6b24cc96dca3e2c01e824401030e",
         "1",
         "43.5",
         "fashion_roupa_masculina",
         "52.199999999999996",
         "-0.011840000000000002",
         "0.98816",
         "43.5",
         "51.581952",
         "18.5792"
        ],
        [
         "40",
         "0060b415594c5e1200324ef1a18493c4",
         "1",
         "69.99",
         "esporte_lazer",
         "83.98799999999999",
         "-0.011840000000000002",
         "0.98816",
         "69.99",
         "82.99358207999998",
         "18.579199999999982"
        ],
        [
         "41",
         "00636f9286f69c9f1bdabe76e670fb50",
         "2",
         "27.9",
         "moveis_decoracao",
         "33.48",
         "-0.011840000000000002",
         "1.97632",
         "55.8",
         "66.16719359999999",
         "18.579199999999986"
        ],
        [
         "42",
         "006508eabcc19ae52ed87323124ad0e9",
         "1",
         "34.89",
         "construcao_ferramentas_seguranca",
         "41.868",
         "-0.011840000000000002",
         "0.98816",
         "34.89",
         "41.37228288",
         "18.5792"
        ],
        [
         "43",
         "006619bbed68b000c8ba3f8725d5409e",
         "1",
         "68.5",
         "beleza_saude",
         "82.2",
         "-0.011840000000000002",
         "0.98816",
         "68.5",
         "81.226752",
         "18.579200000000007"
        ],
        [
         "44",
         "0067f97995b0c3a86739734dc87ee6b6",
         "1",
         "79.0",
         "fashion_bolsas_e_acessorios",
         "94.8",
         "-0.011840000000000002",
         "0.98816",
         "79.0",
         "93.677568",
         "18.579199999999993"
        ],
        [
         "45",
         "006baa9a5b8f95895f15273a35bc2664",
         "3",
         "99.90000000000002",
         "esporte_lazer",
         "119.88000000000002",
         "-0.011840000000000002",
         "2.96448",
         "299.70000000000005",
         "355.38186240000005",
         "18.5792"
        ],
        [
         "46",
         "006c67546bfe73c33b83f6bd1ad58c36",
         "1",
         "59.9",
         "automotivo",
         "71.88",
         "-0.011840000000000002",
         "0.98816",
         "59.9",
         "71.0289408",
         "18.579200000000004"
        ],
        [
         "47",
         "00716e5593e8eea55dbe7a29b72a70bc",
         "1",
         "37.0",
         "fraldas_higiene",
         "44.4",
         "-0.011840000000000002",
         "0.98816",
         "37.0",
         "43.874304",
         "18.579200000000007"
        ],
        [
         "48",
         "00738f5a17ec4450e88915357b085c1e",
         "1",
         "23.9",
         "brinquedos",
         "28.679999999999996",
         "-0.011840000000000002",
         "0.98816",
         "23.9",
         "28.340428799999998",
         "18.5792"
        ],
        [
         "49",
         "0075c14603d80515e20908c156ceb47b",
         "2",
         "49.9",
         "esporte_lazer",
         "59.879999999999995",
         "-0.011840000000000002",
         "1.97632",
         "99.8",
         "118.3420416",
         "18.579200000000004"
        ]
       ],
       "shape": {
        "columns": 10,
        "rows": 32951
       }
      },
      "text/html": [
       "<div>\n",
       "<style scoped>\n",
       "    .dataframe tbody tr th:only-of-type {\n",
       "        vertical-align: middle;\n",
       "    }\n",
       "\n",
       "    .dataframe tbody tr th {\n",
       "        vertical-align: top;\n",
       "    }\n",
       "\n",
       "    .dataframe thead th {\n",
       "        text-align: right;\n",
       "    }\n",
       "</style>\n",
       "<table border=\"1\" class=\"dataframe\">\n",
       "  <thead>\n",
       "    <tr style=\"text-align: right;\">\n",
       "      <th></th>\n",
       "      <th>product_id</th>\n",
       "      <th>total_quantity_sold</th>\n",
       "      <th>average_price</th>\n",
       "      <th>product_category</th>\n",
       "      <th>new_price</th>\n",
       "      <th>expected_qty_change_pct</th>\n",
       "      <th>new_quantity</th>\n",
       "      <th>current_revenue</th>\n",
       "      <th>new_revenue</th>\n",
       "      <th>revenue_change_pct</th>\n",
       "    </tr>\n",
       "  </thead>\n",
       "  <tbody>\n",
       "    <tr>\n",
       "      <th>0</th>\n",
       "      <td>00066f42aeeb9f3007548bb9d3f33c38</td>\n",
       "      <td>1</td>\n",
       "      <td>101.65</td>\n",
       "      <td>perfumaria</td>\n",
       "      <td>121.980</td>\n",
       "      <td>-0.01184</td>\n",
       "      <td>0.98816</td>\n",
       "      <td>101.65</td>\n",
       "      <td>120.535757</td>\n",
       "      <td>18.5792</td>\n",
       "    </tr>\n",
       "    <tr>\n",
       "      <th>1</th>\n",
       "      <td>00088930e925c41fd95ebfe695fd2655</td>\n",
       "      <td>1</td>\n",
       "      <td>129.90</td>\n",
       "      <td>automotivo</td>\n",
       "      <td>155.880</td>\n",
       "      <td>-0.01184</td>\n",
       "      <td>0.98816</td>\n",
       "      <td>129.90</td>\n",
       "      <td>154.034381</td>\n",
       "      <td>18.5792</td>\n",
       "    </tr>\n",
       "    <tr>\n",
       "      <th>2</th>\n",
       "      <td>0009406fd7479715e4bef61dd91f2462</td>\n",
       "      <td>1</td>\n",
       "      <td>229.00</td>\n",
       "      <td>cama_mesa_banho</td>\n",
       "      <td>274.800</td>\n",
       "      <td>-0.01184</td>\n",
       "      <td>0.98816</td>\n",
       "      <td>229.00</td>\n",
       "      <td>271.546368</td>\n",
       "      <td>18.5792</td>\n",
       "    </tr>\n",
       "    <tr>\n",
       "      <th>3</th>\n",
       "      <td>000b8f95fcb9e0096488278317764d19</td>\n",
       "      <td>2</td>\n",
       "      <td>58.90</td>\n",
       "      <td>utilidades_domesticas</td>\n",
       "      <td>70.680</td>\n",
       "      <td>-0.01184</td>\n",
       "      <td>1.97632</td>\n",
       "      <td>117.80</td>\n",
       "      <td>139.686298</td>\n",
       "      <td>18.5792</td>\n",
       "    </tr>\n",
       "    <tr>\n",
       "      <th>4</th>\n",
       "      <td>000d9be29b5207b54e86aa1b1ac54872</td>\n",
       "      <td>1</td>\n",
       "      <td>199.00</td>\n",
       "      <td>relogios_presentes</td>\n",
       "      <td>238.800</td>\n",
       "      <td>-0.01184</td>\n",
       "      <td>0.98816</td>\n",
       "      <td>199.00</td>\n",
       "      <td>235.972608</td>\n",
       "      <td>18.5792</td>\n",
       "    </tr>\n",
       "    <tr>\n",
       "      <th>...</th>\n",
       "      <td>...</td>\n",
       "      <td>...</td>\n",
       "      <td>...</td>\n",
       "      <td>...</td>\n",
       "      <td>...</td>\n",
       "      <td>...</td>\n",
       "      <td>...</td>\n",
       "      <td>...</td>\n",
       "      <td>...</td>\n",
       "      <td>...</td>\n",
       "    </tr>\n",
       "    <tr>\n",
       "      <th>32946</th>\n",
       "      <td>fff6177642830a9a94a0f2cba5e476d1</td>\n",
       "      <td>2</td>\n",
       "      <td>114.99</td>\n",
       "      <td>cool_stuff</td>\n",
       "      <td>137.988</td>\n",
       "      <td>-0.01184</td>\n",
       "      <td>1.97632</td>\n",
       "      <td>229.98</td>\n",
       "      <td>272.708444</td>\n",
       "      <td>18.5792</td>\n",
       "    </tr>\n",
       "    <tr>\n",
       "      <th>32947</th>\n",
       "      <td>fff81cc3158d2725c0655ab9ba0f712c</td>\n",
       "      <td>1</td>\n",
       "      <td>90.00</td>\n",
       "      <td>beleza_saude</td>\n",
       "      <td>108.000</td>\n",
       "      <td>-0.01184</td>\n",
       "      <td>0.98816</td>\n",
       "      <td>90.00</td>\n",
       "      <td>106.721280</td>\n",
       "      <td>18.5792</td>\n",
       "    </tr>\n",
       "    <tr>\n",
       "      <th>32948</th>\n",
       "      <td>fff9553ac224cec9d15d49f5a263411f</td>\n",
       "      <td>1</td>\n",
       "      <td>32.00</td>\n",
       "      <td>fashion_bolsas_e_acessorios</td>\n",
       "      <td>38.400</td>\n",
       "      <td>-0.01184</td>\n",
       "      <td>0.98816</td>\n",
       "      <td>32.00</td>\n",
       "      <td>37.945344</td>\n",
       "      <td>18.5792</td>\n",
       "    </tr>\n",
       "    <tr>\n",
       "      <th>32949</th>\n",
       "      <td>fffdb2d0ec8d6a61f0a0a0db3f25b441</td>\n",
       "      <td>5</td>\n",
       "      <td>33.99</td>\n",
       "      <td>informatica_acessorios</td>\n",
       "      <td>40.788</td>\n",
       "      <td>-0.01184</td>\n",
       "      <td>4.94080</td>\n",
       "      <td>169.95</td>\n",
       "      <td>201.525350</td>\n",
       "      <td>18.5792</td>\n",
       "    </tr>\n",
       "    <tr>\n",
       "      <th>32950</th>\n",
       "      <td>fffe9eeff12fcbd74a2f2b007dde0c58</td>\n",
       "      <td>1</td>\n",
       "      <td>249.99</td>\n",
       "      <td>brinquedos</td>\n",
       "      <td>299.988</td>\n",
       "      <td>-0.01184</td>\n",
       "      <td>0.98816</td>\n",
       "      <td>249.99</td>\n",
       "      <td>296.436142</td>\n",
       "      <td>18.5792</td>\n",
       "    </tr>\n",
       "  </tbody>\n",
       "</table>\n",
       "<p>32951 rows × 10 columns</p>\n",
       "</div>"
      ],
      "text/plain": [
       "                             product_id  total_quantity_sold  average_price  \\\n",
       "0      00066f42aeeb9f3007548bb9d3f33c38                    1         101.65   \n",
       "1      00088930e925c41fd95ebfe695fd2655                    1         129.90   \n",
       "2      0009406fd7479715e4bef61dd91f2462                    1         229.00   \n",
       "3      000b8f95fcb9e0096488278317764d19                    2          58.90   \n",
       "4      000d9be29b5207b54e86aa1b1ac54872                    1         199.00   \n",
       "...                                 ...                  ...            ...   \n",
       "32946  fff6177642830a9a94a0f2cba5e476d1                    2         114.99   \n",
       "32947  fff81cc3158d2725c0655ab9ba0f712c                    1          90.00   \n",
       "32948  fff9553ac224cec9d15d49f5a263411f                    1          32.00   \n",
       "32949  fffdb2d0ec8d6a61f0a0a0db3f25b441                    5          33.99   \n",
       "32950  fffe9eeff12fcbd74a2f2b007dde0c58                    1         249.99   \n",
       "\n",
       "                  product_category  new_price  expected_qty_change_pct  \\\n",
       "0                       perfumaria    121.980                 -0.01184   \n",
       "1                       automotivo    155.880                 -0.01184   \n",
       "2                  cama_mesa_banho    274.800                 -0.01184   \n",
       "3            utilidades_domesticas     70.680                 -0.01184   \n",
       "4               relogios_presentes    238.800                 -0.01184   \n",
       "...                            ...        ...                      ...   \n",
       "32946                   cool_stuff    137.988                 -0.01184   \n",
       "32947                 beleza_saude    108.000                 -0.01184   \n",
       "32948  fashion_bolsas_e_acessorios     38.400                 -0.01184   \n",
       "32949       informatica_acessorios     40.788                 -0.01184   \n",
       "32950                   brinquedos    299.988                 -0.01184   \n",
       "\n",
       "       new_quantity  current_revenue  new_revenue  revenue_change_pct  \n",
       "0           0.98816           101.65   120.535757             18.5792  \n",
       "1           0.98816           129.90   154.034381             18.5792  \n",
       "2           0.98816           229.00   271.546368             18.5792  \n",
       "3           1.97632           117.80   139.686298             18.5792  \n",
       "4           0.98816           199.00   235.972608             18.5792  \n",
       "...             ...              ...          ...                 ...  \n",
       "32946       1.97632           229.98   272.708444             18.5792  \n",
       "32947       0.98816            90.00   106.721280             18.5792  \n",
       "32948       0.98816            32.00    37.945344             18.5792  \n",
       "32949       4.94080           169.95   201.525350             18.5792  \n",
       "32950       0.98816           249.99   296.436142             18.5792  \n",
       "\n",
       "[32951 rows x 10 columns]"
      ]
     },
     "execution_count": 17,
     "metadata": {},
     "output_type": "execute_result"
    }
   ],
   "source": [
    "# Step 7: Define simulation function\n",
    "\n",
    "def simulate_revenue(df, price_increase_pct, elasticity):\n",
    "    df = df.copy()\n",
    "    df['new_price'] = df['average_price'] * (1 + price_increase_pct)\n",
    "    df['expected_qty_change_pct'] = elasticity * price_increase_pct\n",
    "    df['new_quantity'] = df['total_quantity_sold'] * (1 + df['expected_qty_change_pct'])\n",
    "    df['current_revenue'] = df['average_price'] * df['total_quantity_sold']\n",
    "    df['new_revenue'] = df['new_price'] * df['new_quantity']\n",
    "    df['revenue_change_pct'] = (df['new_revenue'] - df['current_revenue']) / df['current_revenue'] * 100\n",
    "    total_current_revenue = df['current_revenue'].sum()\n",
    "    total_new_revenue = df['new_revenue'].sum()\n",
    "    revenue_change = total_new_revenue - total_current_revenue\n",
    "    revenue_change_pct = revenue_change / total_current_revenue * 100\n",
    "    print(f\"Total current revenue: {total_current_revenue:,.2f}\")\n",
    "    print(f\"Total new revenue with {price_increase_pct*100:.0f}% price increase: {total_new_revenue:,.2f}\")\n",
    "    print(f\"Absolute revenue change: {revenue_change:,.2f}\")\n",
    "    print(f\"Percentage revenue change: {revenue_change_pct:.2f}%\")\n",
    "    return df\n",
    "\n",
    "# Step 7.1: Simulate for 5%, 10%, and 20% price increases\n",
    "\n",
    "print(\"5% Price Increase Simulation:\")\n",
    "simulate_revenue(quantity_df, 0.05, -0.0592)\n",
    "\n",
    "print(\"\\n10% Price Increase Simulation:\")\n",
    "simulate_revenue(quantity_df, 0.10, -0.0592)\n",
    "\n",
    "print(\"\\n20% Price Increase Simulation:\")\n",
    "simulate_revenue(quantity_df, 0.20, -0.0592)\n"
   ]
  },
  {
   "cell_type": "code",
   "execution_count": null,
   "id": "5ab6ce48",
   "metadata": {},
   "outputs": [],
   "source": []
  }
 ],
 "metadata": {
  "kernelspec": {
   "display_name": "Python 3",
   "language": "python",
   "name": "python3"
  },
  "language_info": {
   "codemirror_mode": {
    "name": "ipython",
    "version": 3
   },
   "file_extension": ".py",
   "mimetype": "text/x-python",
   "name": "python",
   "nbconvert_exporter": "python",
   "pygments_lexer": "ipython3",
   "version": "3.13.3"
  }
 },
 "nbformat": 4,
 "nbformat_minor": 5
}
